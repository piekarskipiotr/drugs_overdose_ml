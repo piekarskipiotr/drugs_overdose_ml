{
 "cells": [
  {
   "cell_type": "code",
   "execution_count": 157,
   "metadata": {},
   "outputs": [
    {
     "data": {
      "text/html": [
       "<div>\n",
       "<style scoped>\n",
       "    .dataframe tbody tr th:only-of-type {\n",
       "        vertical-align: middle;\n",
       "    }\n",
       "\n",
       "    .dataframe tbody tr th {\n",
       "        vertical-align: top;\n",
       "    }\n",
       "\n",
       "    .dataframe thead th {\n",
       "        text-align: right;\n",
       "    }\n",
       "</style>\n",
       "<table border=\"1\" class=\"dataframe\">\n",
       "  <thead>\n",
       "    <tr style=\"text-align: right;\">\n",
       "      <th></th>\n",
       "      <th>Unnamed: 0</th>\n",
       "      <th>ID</th>\n",
       "      <th>Date</th>\n",
       "      <th>DateType</th>\n",
       "      <th>Age</th>\n",
       "      <th>Sex</th>\n",
       "      <th>Race</th>\n",
       "      <th>ResidenceCity</th>\n",
       "      <th>ResidenceCounty</th>\n",
       "      <th>ResidenceState</th>\n",
       "      <th>...</th>\n",
       "      <th>Tramad</th>\n",
       "      <th>Morphine_NotHeroin</th>\n",
       "      <th>Hydromorphone</th>\n",
       "      <th>Other</th>\n",
       "      <th>OpiateNOS</th>\n",
       "      <th>AnyOpioid</th>\n",
       "      <th>MannerofDeath</th>\n",
       "      <th>DeathCityGeo</th>\n",
       "      <th>ResidenceCityGeo</th>\n",
       "      <th>InjuryCityGeo</th>\n",
       "    </tr>\n",
       "  </thead>\n",
       "  <tbody>\n",
       "    <tr>\n",
       "      <th>0</th>\n",
       "      <td>0</td>\n",
       "      <td>14-0273</td>\n",
       "      <td>06/28/2014 12:00:00 AM</td>\n",
       "      <td>1.0</td>\n",
       "      <td>NaN</td>\n",
       "      <td>NaN</td>\n",
       "      <td>NaN</td>\n",
       "      <td>NaN</td>\n",
       "      <td>NaN</td>\n",
       "      <td>NaN</td>\n",
       "      <td>...</td>\n",
       "      <td>0</td>\n",
       "      <td>0</td>\n",
       "      <td>0</td>\n",
       "      <td>NaN</td>\n",
       "      <td>0</td>\n",
       "      <td>0</td>\n",
       "      <td>Accident</td>\n",
       "      <td>CT\\n(41.575155, -72.738288)</td>\n",
       "      <td>CT\\n(41.575155, -72.738288)</td>\n",
       "      <td>CT\\n(41.575155, -72.738288)</td>\n",
       "    </tr>\n",
       "    <tr>\n",
       "      <th>1</th>\n",
       "      <td>1</td>\n",
       "      <td>13-0102</td>\n",
       "      <td>03/21/2013 12:00:00 AM</td>\n",
       "      <td>0.0</td>\n",
       "      <td>48.0</td>\n",
       "      <td>Male</td>\n",
       "      <td>Black</td>\n",
       "      <td>NORWALK</td>\n",
       "      <td>NaN</td>\n",
       "      <td>NaN</td>\n",
       "      <td>...</td>\n",
       "      <td>0</td>\n",
       "      <td>0</td>\n",
       "      <td>0</td>\n",
       "      <td>NaN</td>\n",
       "      <td>0</td>\n",
       "      <td>0</td>\n",
       "      <td>Accident</td>\n",
       "      <td>Norwalk, CT\\n(41.11805, -73.412906)</td>\n",
       "      <td>NORWALK, CT\\n(41.11805, -73.412906)</td>\n",
       "      <td>CT\\n(41.575155, -72.738288)</td>\n",
       "    </tr>\n",
       "    <tr>\n",
       "      <th>2</th>\n",
       "      <td>2</td>\n",
       "      <td>16-0165</td>\n",
       "      <td>03/13/2016 12:00:00 AM</td>\n",
       "      <td>0.0</td>\n",
       "      <td>30.0</td>\n",
       "      <td>Female</td>\n",
       "      <td>White</td>\n",
       "      <td>SANDY HOOK</td>\n",
       "      <td>FAIRFIELD</td>\n",
       "      <td>CT</td>\n",
       "      <td>...</td>\n",
       "      <td>0</td>\n",
       "      <td>0</td>\n",
       "      <td>0</td>\n",
       "      <td>NaN</td>\n",
       "      <td>0</td>\n",
       "      <td>1</td>\n",
       "      <td>Accident</td>\n",
       "      <td>Danbury, CT\\n(41.393666, -73.451539)</td>\n",
       "      <td>SANDY HOOK, CT\\n(41.419998, -73.282501)</td>\n",
       "      <td>NaN</td>\n",
       "    </tr>\n",
       "    <tr>\n",
       "      <th>3</th>\n",
       "      <td>3</td>\n",
       "      <td>16-0208</td>\n",
       "      <td>03/31/2016 12:00:00 AM</td>\n",
       "      <td>0.0</td>\n",
       "      <td>23.0</td>\n",
       "      <td>Male</td>\n",
       "      <td>White</td>\n",
       "      <td>RYE</td>\n",
       "      <td>WESTCHESTER</td>\n",
       "      <td>NY</td>\n",
       "      <td>...</td>\n",
       "      <td>0</td>\n",
       "      <td>0</td>\n",
       "      <td>0</td>\n",
       "      <td>NaN</td>\n",
       "      <td>0</td>\n",
       "      <td>1</td>\n",
       "      <td>Accident</td>\n",
       "      <td>Greenwich, CT\\n(41.026526, -73.628549)</td>\n",
       "      <td>NaN</td>\n",
       "      <td>NaN</td>\n",
       "    </tr>\n",
       "    <tr>\n",
       "      <th>4</th>\n",
       "      <td>4</td>\n",
       "      <td>13-0052</td>\n",
       "      <td>02/13/2013 12:00:00 AM</td>\n",
       "      <td>0.0</td>\n",
       "      <td>22.0</td>\n",
       "      <td>Male</td>\n",
       "      <td>Asian, Other</td>\n",
       "      <td>FLUSHING</td>\n",
       "      <td>QUEENS</td>\n",
       "      <td>NaN</td>\n",
       "      <td>...</td>\n",
       "      <td>0</td>\n",
       "      <td>0</td>\n",
       "      <td>0</td>\n",
       "      <td>NaN</td>\n",
       "      <td>0</td>\n",
       "      <td>0</td>\n",
       "      <td>Accident</td>\n",
       "      <td>Greenwich, CT\\n(41.026526, -73.628549)</td>\n",
       "      <td>NaN</td>\n",
       "      <td>CT\\n(41.575155, -72.738288)</td>\n",
       "    </tr>\n",
       "  </tbody>\n",
       "</table>\n",
       "<p>5 rows × 42 columns</p>\n",
       "</div>"
      ],
      "text/plain": [
       "   Unnamed: 0       ID                    Date  DateType   Age     Sex  \\\n",
       "0           0  14-0273  06/28/2014 12:00:00 AM       1.0   NaN     NaN   \n",
       "1           1  13-0102  03/21/2013 12:00:00 AM       0.0  48.0    Male   \n",
       "2           2  16-0165  03/13/2016 12:00:00 AM       0.0  30.0  Female   \n",
       "3           3  16-0208  03/31/2016 12:00:00 AM       0.0  23.0    Male   \n",
       "4           4  13-0052  02/13/2013 12:00:00 AM       0.0  22.0    Male   \n",
       "\n",
       "           Race ResidenceCity ResidenceCounty ResidenceState  ... Tramad  \\\n",
       "0           NaN           NaN             NaN            NaN  ...      0   \n",
       "1         Black       NORWALK             NaN            NaN  ...      0   \n",
       "2         White    SANDY HOOK       FAIRFIELD             CT  ...      0   \n",
       "3         White           RYE     WESTCHESTER             NY  ...      0   \n",
       "4  Asian, Other      FLUSHING          QUEENS            NaN  ...      0   \n",
       "\n",
       "  Morphine_NotHeroin Hydromorphone Other OpiateNOS AnyOpioid MannerofDeath  \\\n",
       "0                  0             0   NaN         0         0      Accident   \n",
       "1                  0             0   NaN         0         0      Accident   \n",
       "2                  0             0   NaN         0         1      Accident   \n",
       "3                  0             0   NaN         0         1      Accident   \n",
       "4                  0             0   NaN         0         0      Accident   \n",
       "\n",
       "                             DeathCityGeo  \\\n",
       "0             CT\\n(41.575155, -72.738288)   \n",
       "1     Norwalk, CT\\n(41.11805, -73.412906)   \n",
       "2    Danbury, CT\\n(41.393666, -73.451539)   \n",
       "3  Greenwich, CT\\n(41.026526, -73.628549)   \n",
       "4  Greenwich, CT\\n(41.026526, -73.628549)   \n",
       "\n",
       "                          ResidenceCityGeo                InjuryCityGeo  \n",
       "0              CT\\n(41.575155, -72.738288)  CT\\n(41.575155, -72.738288)  \n",
       "1      NORWALK, CT\\n(41.11805, -73.412906)  CT\\n(41.575155, -72.738288)  \n",
       "2  SANDY HOOK, CT\\n(41.419998, -73.282501)                          NaN  \n",
       "3                                      NaN                          NaN  \n",
       "4                                      NaN  CT\\n(41.575155, -72.738288)  \n",
       "\n",
       "[5 rows x 42 columns]"
      ]
     },
     "execution_count": 157,
     "metadata": {},
     "output_type": "execute_result"
    }
   ],
   "source": [
    "# import wykorzystywanych bibliotek\n",
    "from sklearn.model_selection import train_test_split\n",
    "from sklearn import model_selection, preprocessing, linear_model, naive_bayes, metrics, svm, ensemble\n",
    "import numpy as np\n",
    "import pandas as pd\n",
    "import seaborn as sns\n",
    "import matplotlib.pyplot as plt\n",
    "\n",
    "# importowanie csv do ramki danych\n",
    "drugsDeaths = pd.read_csv('drug_deaths.csv')\n",
    "drugsDeaths.head()"
   ]
  },
  {
   "cell_type": "code",
   "execution_count": 158,
   "metadata": {},
   "outputs": [
    {
     "data": {
      "text/html": [
       "<div>\n",
       "<style scoped>\n",
       "    .dataframe tbody tr th:only-of-type {\n",
       "        vertical-align: middle;\n",
       "    }\n",
       "\n",
       "    .dataframe tbody tr th {\n",
       "        vertical-align: top;\n",
       "    }\n",
       "\n",
       "    .dataframe thead th {\n",
       "        text-align: right;\n",
       "    }\n",
       "</style>\n",
       "<table border=\"1\" class=\"dataframe\">\n",
       "  <thead>\n",
       "    <tr style=\"text-align: right;\">\n",
       "      <th></th>\n",
       "      <th>Age</th>\n",
       "      <th>Sex</th>\n",
       "      <th>Race</th>\n",
       "    </tr>\n",
       "  </thead>\n",
       "  <tbody>\n",
       "    <tr>\n",
       "      <th>0</th>\n",
       "      <td>NaN</td>\n",
       "      <td>NaN</td>\n",
       "      <td>NaN</td>\n",
       "    </tr>\n",
       "    <tr>\n",
       "      <th>1</th>\n",
       "      <td>48.0</td>\n",
       "      <td>Male</td>\n",
       "      <td>Black</td>\n",
       "    </tr>\n",
       "    <tr>\n",
       "      <th>2</th>\n",
       "      <td>30.0</td>\n",
       "      <td>Female</td>\n",
       "      <td>White</td>\n",
       "    </tr>\n",
       "    <tr>\n",
       "      <th>3</th>\n",
       "      <td>23.0</td>\n",
       "      <td>Male</td>\n",
       "      <td>White</td>\n",
       "    </tr>\n",
       "    <tr>\n",
       "      <th>4</th>\n",
       "      <td>22.0</td>\n",
       "      <td>Male</td>\n",
       "      <td>Asian, Other</td>\n",
       "    </tr>\n",
       "    <tr>\n",
       "      <th>...</th>\n",
       "      <td>...</td>\n",
       "      <td>...</td>\n",
       "      <td>...</td>\n",
       "    </tr>\n",
       "    <tr>\n",
       "      <th>5100</th>\n",
       "      <td>43.0</td>\n",
       "      <td>Male</td>\n",
       "      <td>White</td>\n",
       "    </tr>\n",
       "    <tr>\n",
       "      <th>5101</th>\n",
       "      <td>21.0</td>\n",
       "      <td>Male</td>\n",
       "      <td>White</td>\n",
       "    </tr>\n",
       "    <tr>\n",
       "      <th>5102</th>\n",
       "      <td>30.0</td>\n",
       "      <td>Male</td>\n",
       "      <td>White</td>\n",
       "    </tr>\n",
       "    <tr>\n",
       "      <th>5103</th>\n",
       "      <td>33.0</td>\n",
       "      <td>Male</td>\n",
       "      <td>White</td>\n",
       "    </tr>\n",
       "    <tr>\n",
       "      <th>5104</th>\n",
       "      <td>33.0</td>\n",
       "      <td>Male</td>\n",
       "      <td>White</td>\n",
       "    </tr>\n",
       "  </tbody>\n",
       "</table>\n",
       "<p>5105 rows × 3 columns</p>\n",
       "</div>"
      ],
      "text/plain": [
       "       Age     Sex          Race\n",
       "0      NaN     NaN           NaN\n",
       "1     48.0    Male         Black\n",
       "2     30.0  Female         White\n",
       "3     23.0    Male         White\n",
       "4     22.0    Male  Asian, Other\n",
       "...    ...     ...           ...\n",
       "5100  43.0    Male         White\n",
       "5101  21.0    Male         White\n",
       "5102  30.0    Male         White\n",
       "5103  33.0    Male         White\n",
       "5104  33.0    Male         White\n",
       "\n",
       "[5105 rows x 3 columns]"
      ]
     },
     "execution_count": 158,
     "metadata": {},
     "output_type": "execute_result"
    }
   ],
   "source": [
    "drugsDeaths.drop(['Unnamed: 0', 'ID', 'Date', 'DateType', 'ResidenceCity', 'ResidenceCounty', 'ResidenceState', 'DeathCity', 'DeathCounty', 'Location', 'LocationifOther', 'DescriptionofInjury', 'InjuryPlace', 'InjuryCity', 'InjuryCounty', 'InjuryState', 'COD', 'OtherSignifican', 'Heroin', 'Cocaine', 'Fentanyl', 'Fentanyl_Analogue', 'Oxycodone', 'Oxymorphone', 'Ethanol', 'Hydrocodone', 'Benzodiazepine', 'Methadone', 'Amphet', 'Tramad', 'Morphine_NotHeroin', 'Hydromorphone', 'Other', 'OpiateNOS', 'AnyOpioid', 'MannerofDeath', 'DeathCityGeo', 'ResidenceCityGeo', 'InjuryCityGeo'], axis=1, inplace = True)\n",
    "drugsDeaths"
   ]
  },
  {
   "cell_type": "code",
   "execution_count": 159,
   "metadata": {},
   "outputs": [
    {
     "data": {
      "text/html": [
       "<div>\n",
       "<style scoped>\n",
       "    .dataframe tbody tr th:only-of-type {\n",
       "        vertical-align: middle;\n",
       "    }\n",
       "\n",
       "    .dataframe tbody tr th {\n",
       "        vertical-align: top;\n",
       "    }\n",
       "\n",
       "    .dataframe thead th {\n",
       "        text-align: right;\n",
       "    }\n",
       "</style>\n",
       "<table border=\"1\" class=\"dataframe\">\n",
       "  <thead>\n",
       "    <tr style=\"text-align: right;\">\n",
       "      <th></th>\n",
       "      <th>Age</th>\n",
       "      <th>Sex</th>\n",
       "      <th>Race</th>\n",
       "    </tr>\n",
       "  </thead>\n",
       "  <tbody>\n",
       "    <tr>\n",
       "      <th>0</th>\n",
       "      <td>48.0</td>\n",
       "      <td>Male</td>\n",
       "      <td>Black</td>\n",
       "    </tr>\n",
       "    <tr>\n",
       "      <th>1</th>\n",
       "      <td>30.0</td>\n",
       "      <td>Female</td>\n",
       "      <td>White</td>\n",
       "    </tr>\n",
       "    <tr>\n",
       "      <th>2</th>\n",
       "      <td>23.0</td>\n",
       "      <td>Male</td>\n",
       "      <td>White</td>\n",
       "    </tr>\n",
       "    <tr>\n",
       "      <th>3</th>\n",
       "      <td>23.0</td>\n",
       "      <td>Male</td>\n",
       "      <td>White</td>\n",
       "    </tr>\n",
       "    <tr>\n",
       "      <th>4</th>\n",
       "      <td>21.0</td>\n",
       "      <td>Female</td>\n",
       "      <td>White</td>\n",
       "    </tr>\n",
       "    <tr>\n",
       "      <th>...</th>\n",
       "      <td>...</td>\n",
       "      <td>...</td>\n",
       "      <td>...</td>\n",
       "    </tr>\n",
       "    <tr>\n",
       "      <th>4429</th>\n",
       "      <td>43.0</td>\n",
       "      <td>Male</td>\n",
       "      <td>White</td>\n",
       "    </tr>\n",
       "    <tr>\n",
       "      <th>4430</th>\n",
       "      <td>21.0</td>\n",
       "      <td>Male</td>\n",
       "      <td>White</td>\n",
       "    </tr>\n",
       "    <tr>\n",
       "      <th>4431</th>\n",
       "      <td>30.0</td>\n",
       "      <td>Male</td>\n",
       "      <td>White</td>\n",
       "    </tr>\n",
       "    <tr>\n",
       "      <th>4432</th>\n",
       "      <td>33.0</td>\n",
       "      <td>Male</td>\n",
       "      <td>White</td>\n",
       "    </tr>\n",
       "    <tr>\n",
       "      <th>4433</th>\n",
       "      <td>33.0</td>\n",
       "      <td>Male</td>\n",
       "      <td>White</td>\n",
       "    </tr>\n",
       "  </tbody>\n",
       "</table>\n",
       "<p>4434 rows × 3 columns</p>\n",
       "</div>"
      ],
      "text/plain": [
       "       Age     Sex   Race\n",
       "0     48.0    Male  Black\n",
       "1     30.0  Female  White\n",
       "2     23.0    Male  White\n",
       "3     23.0    Male  White\n",
       "4     21.0  Female  White\n",
       "...    ...     ...    ...\n",
       "4429  43.0    Male  White\n",
       "4430  21.0    Male  White\n",
       "4431  30.0    Male  White\n",
       "4432  33.0    Male  White\n",
       "4433  33.0    Male  White\n",
       "\n",
       "[4434 rows x 3 columns]"
      ]
     },
     "execution_count": 159,
     "metadata": {},
     "output_type": "execute_result"
    }
   ],
   "source": [
    "if drugsDeaths.isnull().values.any():\n",
    "    drugsDeaths = drugsDeaths.dropna().reset_index(drop=True)\n",
    "\n",
    "\n",
    "drugsDeaths = drugsDeaths[drugsDeaths.Sex != 'Unknown']\n",
    "drugsDeaths = drugsDeaths[(drugsDeaths.Race == 'Black') | (drugsDeaths.Race == 'White') | (drugsDeaths.Race == 'Asian')]\n",
    "drugsDeaths.reset_index(drop=True, inplace=True)\n",
    "drugsDeaths"
   ]
  },
  {
   "cell_type": "code",
   "execution_count": 160,
   "metadata": {},
   "outputs": [],
   "source": [
    "drugsDeaths['Sex'].replace({'Male' : 1, 'Female': 2}, inplace = True)\n",
    "drugsDeaths['Race'].replace({'Black': 1, 'White': 2, 'Asian': 3}, inplace = True)"
   ]
  },
  {
   "cell_type": "code",
   "execution_count": 161,
   "metadata": {},
   "outputs": [
    {
     "data": {
      "text/html": [
       "<div>\n",
       "<style scoped>\n",
       "    .dataframe tbody tr th:only-of-type {\n",
       "        vertical-align: middle;\n",
       "    }\n",
       "\n",
       "    .dataframe tbody tr th {\n",
       "        vertical-align: top;\n",
       "    }\n",
       "\n",
       "    .dataframe thead th {\n",
       "        text-align: right;\n",
       "    }\n",
       "</style>\n",
       "<table border=\"1\" class=\"dataframe\">\n",
       "  <thead>\n",
       "    <tr style=\"text-align: right;\">\n",
       "      <th></th>\n",
       "      <th>Age</th>\n",
       "      <th>Sex</th>\n",
       "      <th>Race</th>\n",
       "    </tr>\n",
       "  </thead>\n",
       "  <tbody>\n",
       "    <tr>\n",
       "      <th>count</th>\n",
       "      <td>4434.000000</td>\n",
       "      <td>4434.000000</td>\n",
       "      <td>4434.000000</td>\n",
       "    </tr>\n",
       "    <tr>\n",
       "      <th>mean</th>\n",
       "      <td>41.942490</td>\n",
       "      <td>1.270862</td>\n",
       "      <td>1.902346</td>\n",
       "    </tr>\n",
       "    <tr>\n",
       "      <th>std</th>\n",
       "      <td>12.420088</td>\n",
       "      <td>0.444455</td>\n",
       "      <td>0.296880</td>\n",
       "    </tr>\n",
       "    <tr>\n",
       "      <th>min</th>\n",
       "      <td>14.000000</td>\n",
       "      <td>1.000000</td>\n",
       "      <td>1.000000</td>\n",
       "    </tr>\n",
       "    <tr>\n",
       "      <th>25%</th>\n",
       "      <td>31.000000</td>\n",
       "      <td>1.000000</td>\n",
       "      <td>2.000000</td>\n",
       "    </tr>\n",
       "    <tr>\n",
       "      <th>50%</th>\n",
       "      <td>42.000000</td>\n",
       "      <td>1.000000</td>\n",
       "      <td>2.000000</td>\n",
       "    </tr>\n",
       "    <tr>\n",
       "      <th>75%</th>\n",
       "      <td>52.000000</td>\n",
       "      <td>2.000000</td>\n",
       "      <td>2.000000</td>\n",
       "    </tr>\n",
       "    <tr>\n",
       "      <th>max</th>\n",
       "      <td>81.000000</td>\n",
       "      <td>2.000000</td>\n",
       "      <td>2.000000</td>\n",
       "    </tr>\n",
       "  </tbody>\n",
       "</table>\n",
       "</div>"
      ],
      "text/plain": [
       "               Age          Sex         Race\n",
       "count  4434.000000  4434.000000  4434.000000\n",
       "mean     41.942490     1.270862     1.902346\n",
       "std      12.420088     0.444455     0.296880\n",
       "min      14.000000     1.000000     1.000000\n",
       "25%      31.000000     1.000000     2.000000\n",
       "50%      42.000000     1.000000     2.000000\n",
       "75%      52.000000     2.000000     2.000000\n",
       "max      81.000000     2.000000     2.000000"
      ]
     },
     "execution_count": 161,
     "metadata": {},
     "output_type": "execute_result"
    }
   ],
   "source": [
    "drugsDeaths.describe()"
   ]
  },
  {
   "cell_type": "code",
   "execution_count": 162,
   "metadata": {},
   "outputs": [
    {
     "name": "stdout",
     "output_type": "stream",
     "text": [
      "<class 'pandas.core.frame.DataFrame'>\n",
      "RangeIndex: 4434 entries, 0 to 4433\n",
      "Data columns (total 3 columns):\n",
      " #   Column  Non-Null Count  Dtype  \n",
      "---  ------  --------------  -----  \n",
      " 0   Age     4434 non-null   float64\n",
      " 1   Sex     4434 non-null   int64  \n",
      " 2   Race    4434 non-null   int64  \n",
      "dtypes: float64(1), int64(2)\n",
      "memory usage: 104.0 KB\n"
     ]
    }
   ],
   "source": [
    "drugsDeaths.info()"
   ]
  },
  {
   "cell_type": "code",
   "execution_count": 163,
   "metadata": {},
   "outputs": [
    {
     "data": {
      "text/plain": [
       "<AxesSubplot:>"
      ]
     },
     "execution_count": 163,
     "metadata": {},
     "output_type": "execute_result"
    },
    {
     "data": {
      "image/png": "[encoded data removed]",
      "text/plain": [
       "<Figure size 432x288 with 1 Axes>"
      ]
     },
     "metadata": {
      "needs_background": "light"
     },
     "output_type": "display_data"
    }
   ],
   "source": [
    "drugsDeaths['Age'].hist()"
   ]
  },
  {
   "cell_type": "code",
   "execution_count": 164,
   "metadata": {},
   "outputs": [
    {
     "data": {
      "text/plain": [
       "<AxesSubplot:>"
      ]
     },
     "execution_count": 164,
     "metadata": {},
     "output_type": "execute_result"
    },
    {
     "data": {
      "image/png": "[encoded data removed]",
      "text/plain": [
       "<Figure size 432x288 with 1 Axes>"
      ]
     },
     "metadata": {
      "needs_background": "light"
     },
     "output_type": "display_data"
    }
   ],
   "source": [
    "drugsDeaths['Sex'].hist()"
   ]
  },
  {
   "cell_type": "code",
   "execution_count": 165,
   "metadata": {},
   "outputs": [
    {
     "data": {
      "text/plain": [
       "<AxesSubplot:>"
      ]
     },
     "execution_count": 165,
     "metadata": {},
     "output_type": "execute_result"
    },
    {
     "data": {
      "image/png": "[encoded data removed]",
      "text/plain": [
       "<Figure size 432x288 with 1 Axes>"
      ]
     },
     "metadata": {
      "needs_background": "light"
     },
     "output_type": "display_data"
    }
   ],
   "source": [
    "drugsDeaths['Race'].hist()"
   ]
  },
  {
   "cell_type": "code",
   "execution_count": 166,
   "metadata": {},
   "outputs": [
    {
     "data": {
      "image/png": "[encoded data removed]",
      "text/plain": [
       "<Figure size 216x216 with 2 Axes>"
      ]
     },
     "metadata": {
      "needs_background": "light"
     },
     "output_type": "display_data"
    }
   ],
   "source": [
    "correlations = drugsDeaths.corr()\n",
    "fig, ax = plt.subplots(figsize=(3, 3))\n",
    "\n",
    "colormap = sns.color_palette(\"BrBG\", 3)\n",
    "\n",
    "sns.heatmap(correlations, \n",
    "    cmap=colormap, \n",
    "    annot=True, \n",
    "    fmt=\".2f\")\n",
    "ax.set_yticklabels(drugsDeaths.columns)\n",
    "\n",
    "plt.show()"
   ]
  },
  {
   "cell_type": "code",
   "execution_count": 169,
   "metadata": {},
   "outputs": [
    {
     "data": {
      "text/plain": [
       "array([[48.,  1.],\n",
       "       [30.,  2.],\n",
       "       [23.,  2.],\n",
       "       ...,\n",
       "       [30.,  2.],\n",
       "       [33.,  2.],\n",
       "       [33.,  2.]])"
      ]
     },
     "execution_count": 169,
     "metadata": {},
     "output_type": "execute_result"
    }
   ],
   "source": [
    "X = drugsDeaths.drop('Sex', axis = 1).to_numpy()\n",
    "X"
   ]
  },
  {
   "cell_type": "code",
   "execution_count": 170,
   "metadata": {},
   "outputs": [
    {
     "data": {
      "text/plain": [
       "array([1, 2, 1, ..., 1, 1, 1])"
      ]
     },
     "execution_count": 170,
     "metadata": {},
     "output_type": "execute_result"
    }
   ],
   "source": [
    "y = drugsDeaths.loc[:, 'Sex'].to_numpy()\n",
    "y"
   ]
  },
  {
   "cell_type": "code",
   "execution_count": 171,
   "metadata": {},
   "outputs": [],
   "source": [
    "X_train, X_test, y_train, y_test = train_test_split(X, y, test_size=0.2, random_state=12345)"
   ]
  },
  {
   "cell_type": "code",
   "execution_count": 172,
   "metadata": {},
   "outputs": [],
   "source": [
    "def train_model(classifier, feature_vector_train, label, feature_vector_valid):\n",
    "    # trenuj model\n",
    "    classifier.fit(feature_vector_train, label)\n",
    "    \n",
    "    # wygeneruj przewidywania modelu dla zbioru testowego\n",
    "    predictions = classifier.predict(feature_vector_valid)\n",
    "    \n",
    "    # dokonaj ewaluacji modelu na podstawie danych testowych\n",
    "    scores = list(metrics.precision_recall_fscore_support(predictions, y_test))\n",
    "    score_vals = [\n",
    "        scores[0][0],\n",
    "        scores[1][0],\n",
    "        scores[2][0]\n",
    "    ]\n",
    "    score_vals.append(metrics.accuracy_score(predictions, y_test))\n",
    "    return score_vals"
   ]
  },
  {
   "cell_type": "code",
   "execution_count": 173,
   "metadata": {},
   "outputs": [
    {
     "name": "stdout",
     "output_type": "stream",
     "text": [
      "LR:  [1.0, 0.7373167981961668, 0.8487994808565866, 0.7373167981961668]\n"
     ]
    },
    {
     "name": "stderr",
     "output_type": "stream",
     "text": [
      "/opt/homebrew/lib/python3.9/site-packages/sklearn/metrics/_classification.py:1327: UndefinedMetricWarning: Recall and F-score are ill-defined and being set to 0.0 in labels with no true samples. Use `zero_division` parameter to control this behavior.\n",
      "  _warn_prf(average, modifier, msg_start, len(result))\n"
     ]
    }
   ],
   "source": [
    "# MODEL 1 - regresja logistyczna \n",
    "accuracy = train_model(linear_model.LogisticRegression(), X_train, y_train, X_test)\n",
    "accuracy_compare = {'LR': accuracy}\n",
    "print (\"LR: \", accuracy)"
   ]
  },
  {
   "cell_type": "code",
   "execution_count": 174,
   "metadata": {},
   "outputs": [
    {
     "name": "stdout",
     "output_type": "stream",
     "text": [
      "SVM [1.0, 0.7373167981961668, 0.8487994808565866, 0.7373167981961668]\n"
     ]
    },
    {
     "name": "stderr",
     "output_type": "stream",
     "text": [
      "/opt/homebrew/lib/python3.9/site-packages/sklearn/metrics/_classification.py:1327: UndefinedMetricWarning: Recall and F-score are ill-defined and being set to 0.0 in labels with no true samples. Use `zero_division` parameter to control this behavior.\n",
      "  _warn_prf(average, modifier, msg_start, len(result))\n"
     ]
    }
   ],
   "source": [
    "# MODEL 2 - Support Vector Machine\n",
    "accuracy = train_model(svm.SVC(), X_train, y_train, X_test)\n",
    "accuracy_compare['SVM'] = accuracy\n",
    "print (\"SVM\" , accuracy)"
   ]
  },
  {
   "cell_type": "code",
   "execution_count": 175,
   "metadata": {},
   "outputs": [
    {
     "name": "stdout",
     "output_type": "stream",
     "text": [
      "RF:  [0.981651376146789, 0.7353951890034365, 0.8408644400785854, 0.7260428410372041]\n"
     ]
    }
   ],
   "source": [
    "# MODEL 3 - Random Forest Tree \n",
    "accuracy = train_model(ensemble.RandomForestClassifier(), X_train, y_train, X_test)\n",
    "accuracy_compare['RF'] = accuracy\n",
    "print (\"RF: \", accuracy)"
   ]
  },
  {
   "cell_type": "code",
   "execution_count": 176,
   "metadata": {},
   "outputs": [
    {
     "data": {
      "text/plain": [
       "<AxesSubplot:>"
      ]
     },
     "execution_count": 176,
     "metadata": {},
     "output_type": "execute_result"
    },
    {
     "data": {
      "image/png": "[encoded data removed]",
      "text/plain": [
       "<Figure size 432x288 with 1 Axes>"
      ]
     },
     "metadata": {
      "needs_background": "light"
     },
     "output_type": "display_data"
    }
   ],
   "source": [
    "# porównanie modeli\n",
    "\n",
    "df_compare = pd.DataFrame(accuracy_compare, index = ['precision', 'recall', 'f1 score', 'accuracy'])\n",
    "df_compare.plot(kind='bar')"
   ]
  },
  {
   "cell_type": "code",
   "execution_count": 177,
   "metadata": {},
   "outputs": [
    {
     "name": "stdout",
     "output_type": "stream",
     "text": [
      "neural network [1.0, 0.7373167981961668, 0.8487994808565866, 0.7373167981961668]\n"
     ]
    },
    {
     "name": "stderr",
     "output_type": "stream",
     "text": [
      "/opt/homebrew/lib/python3.9/site-packages/sklearn/metrics/_classification.py:1327: UndefinedMetricWarning: Recall and F-score are ill-defined and being set to 0.0 in labels with no true samples. Use `zero_division` parameter to control this behavior.\n",
      "  _warn_prf(average, modifier, msg_start, len(result))\n"
     ]
    }
   ],
   "source": [
    "# działania korygujące - zastosowanie sieci neuronowej\n",
    "\n",
    "# MODEL 4 - neural network\n",
    "from sklearn.neural_network import MLPClassifier\n",
    "mlp = MLPClassifier(hidden_layer_sizes=(10, 10, 10), max_iter=1000)\n",
    "accuracy = train_model(mlp, X_train, y_train, X_test)\n",
    "accuracy_compare['neural network'] = accuracy\n",
    "print (\"neural network\" , accuracy)"
   ]
  },
  {
   "cell_type": "code",
   "execution_count": 178,
   "metadata": {},
   "outputs": [
    {
     "name": "stdout",
     "output_type": "stream",
     "text": [
      "SVM gamma='auto' [0.9954128440366973, 0.7372593431483578, 0.8471047495120365, 0.7350620067643743]\n",
      "SVM kernel='sigmoid' [0.7400611620795107, 0.7366818873668188, 0.738367658276125, 0.6133032694475761]\n",
      "SVM degree=4 [1.0, 0.7373167981961668, 0.8487994808565866, 0.7373167981961668]\n"
     ]
    },
    {
     "name": "stderr",
     "output_type": "stream",
     "text": [
      "/opt/homebrew/lib/python3.9/site-packages/sklearn/metrics/_classification.py:1327: UndefinedMetricWarning: Recall and F-score are ill-defined and being set to 0.0 in labels with no true samples. Use `zero_division` parameter to control this behavior.\n",
      "  _warn_prf(average, modifier, msg_start, len(result))\n"
     ]
    }
   ],
   "source": [
    "# MODEL 5 - Support Vector Machine\n",
    "accuracy = train_model(svm.SVC(gamma='auto'), X_train, y_train, X_test)\n",
    "accuracy_compare['SVM'] = accuracy\n",
    "print (\"SVM gamma='auto'\" , accuracy)\n",
    "\n",
    "# MODEL 6 - Support Vector Machine\n",
    "accuracy = train_model(svm.SVC(kernel='sigmoid'), X_train, y_train, X_test)\n",
    "accuracy_compare['SVM'] = accuracy\n",
    "print (\"SVM kernel='sigmoid'\" , accuracy)\n",
    "\n",
    "# MODEL 7 - Support Vector Machine\n",
    "accuracy = train_model(svm.SVC(degree=4), X_train, y_train, X_test)\n",
    "accuracy_compare['SVM'] = accuracy\n",
    "print (\"SVM degree=4\" , accuracy)"
   ]
  },
  {
   "cell_type": "code",
   "execution_count": 180,
   "metadata": {},
   "outputs": [],
   "source": [
    "import pickle \n",
    "with open('drugs_overdose_model.pickle', 'wb') as handle:\n",
    "    pickle.dump(accuracy, handle)"
   ]
  }
 ],
 "metadata": {
  "kernelspec": {
   "display_name": "Python 3.9.10 64-bit",
   "language": "python",
   "name": "python3"
  },
  "language_info": {
   "codemirror_mode": {
    "name": "ipython",
    "version": 3
   },
   "file_extension": ".py",
   "mimetype": "text/x-python",
   "name": "python",
   "nbconvert_exporter": "python",
   "pygments_lexer": "ipython3",
   "version": "3.9.10"
  },
  "orig_nbformat": 4,
  "vscode": {
   "interpreter": {
    "hash": "b0fa6594d8f4cbf19f97940f81e996739fb7646882a419484c72d19e05852a7e"
   }
  }
 },
 "nbformat": 4,
 "nbformat_minor": 2
}
